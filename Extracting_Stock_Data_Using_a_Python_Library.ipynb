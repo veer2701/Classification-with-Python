{
  "nbformat": 4,
  "nbformat_minor": 0,
  "metadata": {
    "colab": {
      "name": "Extracting Stock Data Using a Python Library",
      "provenance": [],
      "collapsed_sections": [],
      "authorship_tag": "ABX9TyPwIhOty6qs27NzpwKifvr8",
      "include_colab_link": true
    },
    "kernelspec": {
      "name": "python3",
      "display_name": "Python 3"
    },
    "language_info": {
      "name": "python"
    }
  },
  "cells": [
    {
      "cell_type": "markdown",
      "metadata": {
        "id": "view-in-github",
        "colab_type": "text"
      },
      "source": [
        "<a href=\"https://colab.research.google.com/github/veer2701/Classification-with-Python/blob/main/Extracting_Stock_Data_Using_a_Python_Library.ipynb\" target=\"_parent\"><img src=\"https://colab.research.google.com/assets/colab-badge.svg\" alt=\"Open In Colab\"/></a>"
      ]
    },
    {
      "cell_type": "code",
      "metadata": {
        "colab": {
          "base_uri": "https://localhost:8080/"
        },
        "id": "aJb37wFVEQ3O",
        "outputId": "de94cc76-bb84-4283-c5be-f5f5e485c71a"
      },
      "source": [
        "!pip install yfinance\n",
        "import yfinance as yf\n",
        "import pandas as pd\n",
        "import matplotlib.pyplot as plt\n"
      ],
      "execution_count": 2,
      "outputs": [
        {
          "output_type": "stream",
          "name": "stdout",
          "text": [
            "Collecting yfinance\n",
            "  Downloading yfinance-0.1.67-py2.py3-none-any.whl (25 kB)\n",
            "Requirement already satisfied: numpy>=1.15 in /usr/local/lib/python3.7/dist-packages (from yfinance) (1.19.5)\n",
            "Requirement already satisfied: multitasking>=0.0.7 in /usr/local/lib/python3.7/dist-packages (from yfinance) (0.0.10)\n",
            "Requirement already satisfied: pandas>=0.24 in /usr/local/lib/python3.7/dist-packages (from yfinance) (1.1.5)\n",
            "Requirement already satisfied: requests>=2.20 in /usr/local/lib/python3.7/dist-packages (from yfinance) (2.23.0)\n",
            "Collecting lxml>=4.5.1\n",
            "  Downloading lxml-4.6.4-cp37-cp37m-manylinux_2_17_x86_64.manylinux2014_x86_64.manylinux_2_24_x86_64.whl (6.3 MB)\n",
            "\u001b[K     |████████████████████████████████| 6.3 MB 9.2 MB/s \n",
            "\u001b[?25hRequirement already satisfied: python-dateutil>=2.7.3 in /usr/local/lib/python3.7/dist-packages (from pandas>=0.24->yfinance) (2.8.2)\n",
            "Requirement already satisfied: pytz>=2017.2 in /usr/local/lib/python3.7/dist-packages (from pandas>=0.24->yfinance) (2018.9)\n",
            "Requirement already satisfied: six>=1.5 in /usr/local/lib/python3.7/dist-packages (from python-dateutil>=2.7.3->pandas>=0.24->yfinance) (1.15.0)\n",
            "Requirement already satisfied: urllib3!=1.25.0,!=1.25.1,<1.26,>=1.21.1 in /usr/local/lib/python3.7/dist-packages (from requests>=2.20->yfinance) (1.24.3)\n",
            "Requirement already satisfied: chardet<4,>=3.0.2 in /usr/local/lib/python3.7/dist-packages (from requests>=2.20->yfinance) (3.0.4)\n",
            "Requirement already satisfied: certifi>=2017.4.17 in /usr/local/lib/python3.7/dist-packages (from requests>=2.20->yfinance) (2021.10.8)\n",
            "Requirement already satisfied: idna<3,>=2.5 in /usr/local/lib/python3.7/dist-packages (from requests>=2.20->yfinance) (2.10)\n",
            "Installing collected packages: lxml, yfinance\n",
            "  Attempting uninstall: lxml\n",
            "    Found existing installation: lxml 4.2.6\n",
            "    Uninstalling lxml-4.2.6:\n",
            "      Successfully uninstalled lxml-4.2.6\n",
            "Successfully installed lxml-4.6.4 yfinance-0.1.67\n"
          ]
        }
      ]
    },
    {
      "cell_type": "code",
      "metadata": {
        "id": "rHhNlpsQEng1"
      },
      "source": [
        "apple = yf.Ticker(\"AAPL\")"
      ],
      "execution_count": 3,
      "outputs": []
    },
    {
      "cell_type": "code",
      "metadata": {
        "colab": {
          "base_uri": "https://localhost:8080/"
        },
        "id": "DsFMAubMExtL",
        "outputId": "16512d18-2201-46af-d7b0-fe7d36740545"
      },
      "source": [
        "apple_info=apple.info\n",
        "apple_info"
      ],
      "execution_count": 4,
      "outputs": [
        {
          "output_type": "execute_result",
          "data": {
            "text/plain": [
              "{'52WeekChange': 0.34024727,\n",
              " 'SandP52WeekChange': 0.23081124,\n",
              " 'address1': 'One Apple Park Way',\n",
              " 'algorithm': None,\n",
              " 'annualHoldingsTurnover': None,\n",
              " 'annualReportExpenseRatio': None,\n",
              " 'ask': 161.82,\n",
              " 'askSize': 800,\n",
              " 'averageDailyVolume10Day': 111872230,\n",
              " 'averageVolume': 81512325,\n",
              " 'averageVolume10days': 111872230,\n",
              " 'beta': 1.205714,\n",
              " 'beta3Year': None,\n",
              " 'bid': 161.74,\n",
              " 'bidSize': 1300,\n",
              " 'bookValue': 3.841,\n",
              " 'category': None,\n",
              " 'circulatingSupply': None,\n",
              " 'city': 'Cupertino',\n",
              " 'companyOfficers': [],\n",
              " 'country': 'United States',\n",
              " 'currency': 'USD',\n",
              " 'currentPrice': 161.7099,\n",
              " 'currentRatio': 1.075,\n",
              " 'dateShortInterest': 1636934400,\n",
              " 'dayHigh': 162.13,\n",
              " 'dayLow': 157.8,\n",
              " 'debtToEquity': 216.392,\n",
              " 'dividendRate': 0.88,\n",
              " 'dividendYield': 0.0053,\n",
              " 'earningsGrowth': 0.662,\n",
              " 'earningsQuarterlyGrowth': 0.622,\n",
              " 'ebitda': 120233000960,\n",
              " 'ebitdaMargins': 0.32867,\n",
              " 'enterpriseToEbitda': 23.098,\n",
              " 'enterpriseToRevenue': 7.592,\n",
              " 'enterpriseValue': 2777165070336,\n",
              " 'exDividendDate': 1636070400,\n",
              " 'exchange': 'NMS',\n",
              " 'exchangeTimezoneName': 'America/New_York',\n",
              " 'exchangeTimezoneShortName': 'EST',\n",
              " 'expireDate': None,\n",
              " 'fiftyDayAverage': 149.4438,\n",
              " 'fiftyTwoWeekHigh': 170.3,\n",
              " 'fiftyTwoWeekLow': 116.21,\n",
              " 'financialCurrency': 'USD',\n",
              " 'fiveYearAverageReturn': None,\n",
              " 'fiveYearAvgDividendYield': 1.2,\n",
              " 'floatShares': 16389334347,\n",
              " 'forwardEps': 6.14,\n",
              " 'forwardPE': 26.33733,\n",
              " 'freeCashflow': 73295003648,\n",
              " 'fromCurrency': None,\n",
              " 'fullTimeEmployees': 154000,\n",
              " 'fundFamily': None,\n",
              " 'fundInceptionDate': None,\n",
              " 'gmtOffSetMilliseconds': '-18000000',\n",
              " 'grossMargins': 0.41779,\n",
              " 'grossProfits': 152836000000,\n",
              " 'heldPercentInsiders': 0.00071000005,\n",
              " 'heldPercentInstitutions': 0.58693004,\n",
              " 'impliedSharesOutstanding': None,\n",
              " 'industry': 'Consumer Electronics',\n",
              " 'isEsgPopulated': False,\n",
              " 'lastCapGain': None,\n",
              " 'lastDividendDate': 1636070400,\n",
              " 'lastDividendValue': 0.22,\n",
              " 'lastFiscalYearEnd': 1632528000,\n",
              " 'lastMarket': None,\n",
              " 'lastSplitDate': 1598832000,\n",
              " 'lastSplitFactor': '4:1',\n",
              " 'legalType': None,\n",
              " 'logo_url': 'https://logo.clearbit.com/apple.com',\n",
              " 'longBusinessSummary': 'Apple Inc. designs, manufactures, and markets smartphones, personal computers, tablets, wearables, and accessories worldwide. It also sells various related services. In addition, the company offers iPhone, a line of smartphones; Mac, a line of personal computers; iPad, a line of multi-purpose tablets; AirPods Max, an over-ear wireless headphone; and wearables, home, and accessories comprising AirPods, Apple TV, Apple Watch, Beats products, HomePod, and iPod touch. Further, it provides AppleCare support services; cloud services store services; and operates various platforms, including the App Store that allow customers to discover and download applications and digital content, such as books, music, video, games, and podcasts. Additionally, the company offers various services, such as Apple Arcade, a game subscription service; Apple Music, which offers users a curated listening experience with on-demand radio stations; Apple News+, a subscription news and magazine service; Apple TV+, which offers exclusive original content; Apple Card, a co-branded credit card; and Apple Pay, a cashless payment service, as well as licenses its intellectual property. The company serves consumers, and small and mid-sized businesses; and the education, enterprise, and government markets. It distributes third-party applications for its products through the App Store. The company also sells its products through its retail and online stores, and direct sales force; and third-party cellular network carriers, wholesalers, retailers, and resellers. Apple Inc. was incorporated in 1977 and is headquartered in Cupertino, California.',\n",
              " 'longName': 'Apple Inc.',\n",
              " 'market': 'us_market',\n",
              " 'marketCap': 2653098606592,\n",
              " 'maxAge': 1,\n",
              " 'maxSupply': None,\n",
              " 'messageBoardId': 'finmb_24937',\n",
              " 'morningStarOverallRating': None,\n",
              " 'morningStarRiskRating': None,\n",
              " 'mostRecentQuarter': 1632528000,\n",
              " 'navPrice': None,\n",
              " 'netIncomeToCommon': 94679998464,\n",
              " 'nextFiscalYearEnd': 1695600000,\n",
              " 'numberOfAnalystOpinions': 40,\n",
              " 'open': 158.735,\n",
              " 'openInterest': None,\n",
              " 'operatingCashflow': 104037998592,\n",
              " 'operatingMargins': 0.29782,\n",
              " 'payoutRatio': 0.1515,\n",
              " 'pegRatio': 1.86,\n",
              " 'phone': '408 996 1010',\n",
              " 'preMarketPrice': 158.74,\n",
              " 'previousClose': 164.77,\n",
              " 'priceHint': 2,\n",
              " 'priceToBook': 42.10099,\n",
              " 'priceToSalesTrailing12Months': 7.2525296,\n",
              " 'profitMargins': 0.25882,\n",
              " 'quickRatio': 0.91,\n",
              " 'quoteType': 'EQUITY',\n",
              " 'recommendationKey': 'buy',\n",
              " 'recommendationMean': 1.9,\n",
              " 'regularMarketDayHigh': 162.13,\n",
              " 'regularMarketDayLow': 157.8,\n",
              " 'regularMarketOpen': 158.735,\n",
              " 'regularMarketPreviousClose': 164.77,\n",
              " 'regularMarketPrice': 161.7112,\n",
              " 'regularMarketVolume': 69779565,\n",
              " 'returnOnAssets': 0.20179,\n",
              " 'returnOnEquity': 1.47443,\n",
              " 'revenueGrowth': 0.288,\n",
              " 'revenuePerShare': 21.904,\n",
              " 'revenueQuarterlyGrowth': None,\n",
              " 'sector': 'Technology',\n",
              " 'sharesOutstanding': 16406400000,\n",
              " 'sharesPercentSharesOut': 0.0061000003,\n",
              " 'sharesShort': 99688619,\n",
              " 'sharesShortPreviousMonthDate': 1634256000,\n",
              " 'sharesShortPriorMonth': 100881318,\n",
              " 'shortName': 'Apple Inc.',\n",
              " 'shortPercentOfFloat': 0.0061000003,\n",
              " 'shortRatio': 1.5,\n",
              " 'startDate': None,\n",
              " 'state': 'CA',\n",
              " 'strikePrice': None,\n",
              " 'symbol': 'AAPL',\n",
              " 'targetHighPrice': 200,\n",
              " 'targetLowPrice': 128.01,\n",
              " 'targetMeanPrice': 168.95,\n",
              " 'targetMedianPrice': 170,\n",
              " 'threeYearAverageReturn': None,\n",
              " 'toCurrency': None,\n",
              " 'totalAssets': None,\n",
              " 'totalCash': 62639001600,\n",
              " 'totalCashPerShare': 3.818,\n",
              " 'totalDebt': 136521998336,\n",
              " 'totalRevenue': 365817004032,\n",
              " 'tradeable': False,\n",
              " 'trailingAnnualDividendRate': 0.85,\n",
              " 'trailingAnnualDividendYield': 0.005158706,\n",
              " 'trailingEps': 5.61,\n",
              " 'trailingPE': 28.825525,\n",
              " 'twoHundredDayAverage': 138.64085,\n",
              " 'volume': 69779565,\n",
              " 'volume24Hr': None,\n",
              " 'volumeAllCurrencies': None,\n",
              " 'website': 'http://www.apple.com',\n",
              " 'yield': None,\n",
              " 'ytdReturn': None,\n",
              " 'zip': '95014'}"
            ]
          },
          "metadata": {},
          "execution_count": 4
        }
      ]
    },
    {
      "cell_type": "code",
      "metadata": {
        "colab": {
          "base_uri": "https://localhost:8080/",
          "height": 35
        },
        "id": "rR2t9NmZEz7E",
        "outputId": "cf71796b-ddae-485e-e3ba-0ecadd30cdc8"
      },
      "source": [
        "apple_info['country']"
      ],
      "execution_count": 5,
      "outputs": [
        {
          "output_type": "execute_result",
          "data": {
            "application/vnd.google.colaboratory.intrinsic+json": {
              "type": "string"
            },
            "text/plain": [
              "'United States'"
            ]
          },
          "metadata": {},
          "execution_count": 5
        }
      ]
    },
    {
      "cell_type": "code",
      "metadata": {
        "id": "2V1gyt6jE3zj"
      },
      "source": [
        "apple_share_price_data = apple.history(period=\"max\")"
      ],
      "execution_count": 6,
      "outputs": []
    },
    {
      "cell_type": "code",
      "metadata": {
        "colab": {
          "base_uri": "https://localhost:8080/",
          "height": 206
        },
        "id": "_c5dXTAwE6Hr",
        "outputId": "84cb6b8d-79e0-412f-f910-c2b018611967"
      },
      "source": [
        "apple_share_price_data.tail()"
      ],
      "execution_count": 10,
      "outputs": [
        {
          "output_type": "execute_result",
          "data": {
            "text/html": [
              "<div>\n",
              "<style scoped>\n",
              "    .dataframe tbody tr th:only-of-type {\n",
              "        vertical-align: middle;\n",
              "    }\n",
              "\n",
              "    .dataframe tbody tr th {\n",
              "        vertical-align: top;\n",
              "    }\n",
              "\n",
              "    .dataframe thead th {\n",
              "        text-align: right;\n",
              "    }\n",
              "</style>\n",
              "<table border=\"1\" class=\"dataframe\">\n",
              "  <thead>\n",
              "    <tr style=\"text-align: right;\">\n",
              "      <th></th>\n",
              "      <th>index</th>\n",
              "      <th>Date</th>\n",
              "      <th>Open</th>\n",
              "      <th>High</th>\n",
              "      <th>Low</th>\n",
              "      <th>Close</th>\n",
              "      <th>Volume</th>\n",
              "      <th>Dividends</th>\n",
              "      <th>Stock Splits</th>\n",
              "    </tr>\n",
              "  </thead>\n",
              "  <tbody>\n",
              "    <tr>\n",
              "      <th>10327</th>\n",
              "      <td>10327</td>\n",
              "      <td>2021-11-26</td>\n",
              "      <td>159.570007</td>\n",
              "      <td>160.449997</td>\n",
              "      <td>156.360001</td>\n",
              "      <td>156.809998</td>\n",
              "      <td>76959800</td>\n",
              "      <td>0.0</td>\n",
              "      <td>0.0</td>\n",
              "    </tr>\n",
              "    <tr>\n",
              "      <th>10328</th>\n",
              "      <td>10328</td>\n",
              "      <td>2021-11-29</td>\n",
              "      <td>159.369995</td>\n",
              "      <td>161.190002</td>\n",
              "      <td>158.789993</td>\n",
              "      <td>160.240005</td>\n",
              "      <td>88748200</td>\n",
              "      <td>0.0</td>\n",
              "      <td>0.0</td>\n",
              "    </tr>\n",
              "    <tr>\n",
              "      <th>10329</th>\n",
              "      <td>10329</td>\n",
              "      <td>2021-11-30</td>\n",
              "      <td>159.990005</td>\n",
              "      <td>165.520004</td>\n",
              "      <td>159.919998</td>\n",
              "      <td>165.300003</td>\n",
              "      <td>174048100</td>\n",
              "      <td>0.0</td>\n",
              "      <td>0.0</td>\n",
              "    </tr>\n",
              "    <tr>\n",
              "      <th>10330</th>\n",
              "      <td>10330</td>\n",
              "      <td>2021-12-01</td>\n",
              "      <td>167.479996</td>\n",
              "      <td>170.300003</td>\n",
              "      <td>164.529999</td>\n",
              "      <td>164.770004</td>\n",
              "      <td>152052500</td>\n",
              "      <td>0.0</td>\n",
              "      <td>0.0</td>\n",
              "    </tr>\n",
              "    <tr>\n",
              "      <th>10331</th>\n",
              "      <td>10331</td>\n",
              "      <td>2021-12-02</td>\n",
              "      <td>158.735001</td>\n",
              "      <td>162.130005</td>\n",
              "      <td>157.800003</td>\n",
              "      <td>161.800003</td>\n",
              "      <td>69853649</td>\n",
              "      <td>0.0</td>\n",
              "      <td>0.0</td>\n",
              "    </tr>\n",
              "  </tbody>\n",
              "</table>\n",
              "</div>"
            ],
            "text/plain": [
              "       index       Date        Open  ...     Volume  Dividends  Stock Splits\n",
              "10327  10327 2021-11-26  159.570007  ...   76959800        0.0           0.0\n",
              "10328  10328 2021-11-29  159.369995  ...   88748200        0.0           0.0\n",
              "10329  10329 2021-11-30  159.990005  ...  174048100        0.0           0.0\n",
              "10330  10330 2021-12-01  167.479996  ...  152052500        0.0           0.0\n",
              "10331  10331 2021-12-02  158.735001  ...   69853649        0.0           0.0\n",
              "\n",
              "[5 rows x 9 columns]"
            ]
          },
          "metadata": {},
          "execution_count": 10
        }
      ]
    },
    {
      "cell_type": "code",
      "metadata": {
        "colab": {
          "base_uri": "https://localhost:8080/",
          "height": 206
        },
        "id": "3U3qLUPBE9Y7",
        "outputId": "413f3c68-c2cc-44c2-ae3a-15c348b67875"
      },
      "source": [
        "apple_share_price_data.reset_index(inplace=True)\n",
        "apple_share_price_data.tail()"
      ],
      "execution_count": 11,
      "outputs": [
        {
          "output_type": "execute_result",
          "data": {
            "text/html": [
              "<div>\n",
              "<style scoped>\n",
              "    .dataframe tbody tr th:only-of-type {\n",
              "        vertical-align: middle;\n",
              "    }\n",
              "\n",
              "    .dataframe tbody tr th {\n",
              "        vertical-align: top;\n",
              "    }\n",
              "\n",
              "    .dataframe thead th {\n",
              "        text-align: right;\n",
              "    }\n",
              "</style>\n",
              "<table border=\"1\" class=\"dataframe\">\n",
              "  <thead>\n",
              "    <tr style=\"text-align: right;\">\n",
              "      <th></th>\n",
              "      <th>level_0</th>\n",
              "      <th>index</th>\n",
              "      <th>Date</th>\n",
              "      <th>Open</th>\n",
              "      <th>High</th>\n",
              "      <th>Low</th>\n",
              "      <th>Close</th>\n",
              "      <th>Volume</th>\n",
              "      <th>Dividends</th>\n",
              "      <th>Stock Splits</th>\n",
              "    </tr>\n",
              "  </thead>\n",
              "  <tbody>\n",
              "    <tr>\n",
              "      <th>10327</th>\n",
              "      <td>10327</td>\n",
              "      <td>10327</td>\n",
              "      <td>2021-11-26</td>\n",
              "      <td>159.570007</td>\n",
              "      <td>160.449997</td>\n",
              "      <td>156.360001</td>\n",
              "      <td>156.809998</td>\n",
              "      <td>76959800</td>\n",
              "      <td>0.0</td>\n",
              "      <td>0.0</td>\n",
              "    </tr>\n",
              "    <tr>\n",
              "      <th>10328</th>\n",
              "      <td>10328</td>\n",
              "      <td>10328</td>\n",
              "      <td>2021-11-29</td>\n",
              "      <td>159.369995</td>\n",
              "      <td>161.190002</td>\n",
              "      <td>158.789993</td>\n",
              "      <td>160.240005</td>\n",
              "      <td>88748200</td>\n",
              "      <td>0.0</td>\n",
              "      <td>0.0</td>\n",
              "    </tr>\n",
              "    <tr>\n",
              "      <th>10329</th>\n",
              "      <td>10329</td>\n",
              "      <td>10329</td>\n",
              "      <td>2021-11-30</td>\n",
              "      <td>159.990005</td>\n",
              "      <td>165.520004</td>\n",
              "      <td>159.919998</td>\n",
              "      <td>165.300003</td>\n",
              "      <td>174048100</td>\n",
              "      <td>0.0</td>\n",
              "      <td>0.0</td>\n",
              "    </tr>\n",
              "    <tr>\n",
              "      <th>10330</th>\n",
              "      <td>10330</td>\n",
              "      <td>10330</td>\n",
              "      <td>2021-12-01</td>\n",
              "      <td>167.479996</td>\n",
              "      <td>170.300003</td>\n",
              "      <td>164.529999</td>\n",
              "      <td>164.770004</td>\n",
              "      <td>152052500</td>\n",
              "      <td>0.0</td>\n",
              "      <td>0.0</td>\n",
              "    </tr>\n",
              "    <tr>\n",
              "      <th>10331</th>\n",
              "      <td>10331</td>\n",
              "      <td>10331</td>\n",
              "      <td>2021-12-02</td>\n",
              "      <td>158.735001</td>\n",
              "      <td>162.130005</td>\n",
              "      <td>157.800003</td>\n",
              "      <td>161.800003</td>\n",
              "      <td>69853649</td>\n",
              "      <td>0.0</td>\n",
              "      <td>0.0</td>\n",
              "    </tr>\n",
              "  </tbody>\n",
              "</table>\n",
              "</div>"
            ],
            "text/plain": [
              "       level_0  index       Date  ...     Volume  Dividends  Stock Splits\n",
              "10327    10327  10327 2021-11-26  ...   76959800        0.0           0.0\n",
              "10328    10328  10328 2021-11-29  ...   88748200        0.0           0.0\n",
              "10329    10329  10329 2021-11-30  ...  174048100        0.0           0.0\n",
              "10330    10330  10330 2021-12-01  ...  152052500        0.0           0.0\n",
              "10331    10331  10331 2021-12-02  ...   69853649        0.0           0.0\n",
              "\n",
              "[5 rows x 10 columns]"
            ]
          },
          "metadata": {},
          "execution_count": 11
        }
      ]
    },
    {
      "cell_type": "code",
      "metadata": {
        "colab": {
          "base_uri": "https://localhost:8080/",
          "height": 289
        },
        "id": "zxpbvwYxFBMT",
        "outputId": "525b073b-afb5-4849-a533-0448b7af786c"
      },
      "source": [
        "apple_share_price_data.plot(x=\"Date\", y=\"Open\")"
      ],
      "execution_count": 12,
      "outputs": [
        {
          "output_type": "execute_result",
          "data": {
            "text/plain": [
              "<matplotlib.axes._subplots.AxesSubplot at 0x7fbc94e31890>"
            ]
          },
          "metadata": {},
          "execution_count": 12
        },
        {
          "output_type": "display_data",
          "data": {
            "image/png": "[encoded data removed]",
            "text/plain": [
              "<Figure size 432x288 with 1 Axes>"
            ]
          },
          "metadata": {
            "needs_background": "light"
          }
        }
      ]
    },
    {
      "cell_type": "code",
      "metadata": {
        "colab": {
          "base_uri": "https://localhost:8080/"
        },
        "id": "NUH5Vl6QFUl7",
        "outputId": "14f3ca1e-3835-4c8b-dd16-3d087e990973"
      },
      "source": [
        "apple.dividends"
      ],
      "execution_count": 13,
      "outputs": [
        {
          "output_type": "execute_result",
          "data": {
            "text/plain": [
              "Date\n",
              "1987-05-11    0.000536\n",
              "1987-08-10    0.000536\n",
              "1987-11-17    0.000714\n",
              "1988-02-12    0.000714\n",
              "1988-05-16    0.000714\n",
              "                ...   \n",
              "2020-11-06    0.205000\n",
              "2021-02-05    0.205000\n",
              "2021-05-07    0.220000\n",
              "2021-08-06    0.220000\n",
              "2021-11-05    0.220000\n",
              "Name: Dividends, Length: 73, dtype: float64"
            ]
          },
          "metadata": {},
          "execution_count": 13
        }
      ]
    },
    {
      "cell_type": "code",
      "metadata": {
        "colab": {
          "base_uri": "https://localhost:8080/",
          "height": 286
        },
        "id": "uantIEnBFZdr",
        "outputId": "e00ae821-516b-417c-8bf4-692278d38a02"
      },
      "source": [
        "apple.dividends.plot()"
      ],
      "execution_count": 14,
      "outputs": [
        {
          "output_type": "execute_result",
          "data": {
            "text/plain": [
              "<matplotlib.axes._subplots.AxesSubplot at 0x7fbc94dd9510>"
            ]
          },
          "metadata": {},
          "execution_count": 14
        },
        {
          "output_type": "display_data",
          "data": {
            "image/png": "[encoded data removed]",
            "text/plain": [
              "<Figure size 432x288 with 1 Axes>"
            ]
          },
          "metadata": {
            "needs_background": "light"
          }
        }
      ]
    },
    {
      "cell_type": "code",
      "metadata": {
        "id": "D3p-NE5JFdSb"
      },
      "source": [
        "# Extracting Stock Data Using a Web Scraping"
      ],
      "execution_count": 15,
      "outputs": []
    },
    {
      "cell_type": "code",
      "metadata": {
        "colab": {
          "base_uri": "https://localhost:8080/"
        },
        "id": "_JIsrxPbGGg0",
        "outputId": "702f91e1-fc02-478b-8187-77dc227957aa"
      },
      "source": [
        "!pip install bs4\n",
        "import requests\n",
        "from bs4 import BeautifulSoup"
      ],
      "execution_count": 17,
      "outputs": [
        {
          "output_type": "stream",
          "name": "stdout",
          "text": [
            "Requirement already satisfied: bs4 in /usr/local/lib/python3.7/dist-packages (0.0.1)\n",
            "Requirement already satisfied: beautifulsoup4 in /usr/local/lib/python3.7/dist-packages (from bs4) (4.6.3)\n"
          ]
        }
      ]
    },
    {
      "cell_type": "code",
      "metadata": {
        "id": "trHI1M2UGJKr"
      },
      "source": [
        "url = \"https://cf-courses-data.s3.us.cloud-object-storage.appdomain.cloud/IBMDeveloperSkillsNetwork-PY0220EN-SkillsNetwork/labs/project/netflix_data_webpage.html\"\n",
        "\n",
        "data  = requests.get(url).text"
      ],
      "execution_count": 18,
      "outputs": []
    },
    {
      "cell_type": "code",
      "metadata": {
        "id": "2G_L5izVGRl6"
      },
      "source": [
        "soup = BeautifulSoup(data, 'html5lib')"
      ],
      "execution_count": 19,
      "outputs": []
    },
    {
      "cell_type": "code",
      "metadata": {
        "id": "NwOT2lpwGUHD"
      },
      "source": [
        "netflix_data = pd.DataFrame(columns=[\"Date\", \"Open\", \"High\", \"Low\", \"Close\", \"Volume\"])\n",
        "\n",
        "# First we isolate the body of the table which contains all the information\n",
        "# Then we loop through each row and find all the column values for each row\n",
        "for row in soup.find(\"tbody\").find_all('tr'):\n",
        "    col = row.find_all(\"td\")\n",
        "    date = col[0].text\n",
        "    Open = col[1].text\n",
        "    high = col[2].text\n",
        "    low = col[3].text\n",
        "    close = col[4].text\n",
        "    adj_close = col[5].text\n",
        "    volume = col[6].text\n",
        "    \n",
        "    # Finally we append the data of each row to the table\n",
        "    netflix_data = netflix_data.append({\"Date\":date, \"Open\":Open, \"High\":high, \"Low\":low, \"Close\":close, \"Adj Close\":adj_close, \"Volume\":volume}, ignore_index=True)    "
      ],
      "execution_count": 20,
      "outputs": []
    },
    {
      "cell_type": "code",
      "metadata": {
        "colab": {
          "base_uri": "https://localhost:8080/",
          "height": 206
        },
        "id": "LqalujeqGXjC",
        "outputId": "8fc02c98-c883-415d-8805-a25887c9a5e1"
      },
      "source": [
        "netflix_data.head()"
      ],
      "execution_count": 21,
      "outputs": [
        {
          "output_type": "execute_result",
          "data": {
            "text/html": [
              "<div>\n",
              "<style scoped>\n",
              "    .dataframe tbody tr th:only-of-type {\n",
              "        vertical-align: middle;\n",
              "    }\n",
              "\n",
              "    .dataframe tbody tr th {\n",
              "        vertical-align: top;\n",
              "    }\n",
              "\n",
              "    .dataframe thead th {\n",
              "        text-align: right;\n",
              "    }\n",
              "</style>\n",
              "<table border=\"1\" class=\"dataframe\">\n",
              "  <thead>\n",
              "    <tr style=\"text-align: right;\">\n",
              "      <th></th>\n",
              "      <th>Date</th>\n",
              "      <th>Open</th>\n",
              "      <th>High</th>\n",
              "      <th>Low</th>\n",
              "      <th>Close</th>\n",
              "      <th>Volume</th>\n",
              "      <th>Adj Close</th>\n",
              "    </tr>\n",
              "  </thead>\n",
              "  <tbody>\n",
              "    <tr>\n",
              "      <th>0</th>\n",
              "      <td>Jun 01, 2021</td>\n",
              "      <td>504.01</td>\n",
              "      <td>536.13</td>\n",
              "      <td>482.14</td>\n",
              "      <td>528.21</td>\n",
              "      <td>78,560,600</td>\n",
              "      <td>528.21</td>\n",
              "    </tr>\n",
              "    <tr>\n",
              "      <th>1</th>\n",
              "      <td>May 01, 2021</td>\n",
              "      <td>512.65</td>\n",
              "      <td>518.95</td>\n",
              "      <td>478.54</td>\n",
              "      <td>502.81</td>\n",
              "      <td>66,927,600</td>\n",
              "      <td>502.81</td>\n",
              "    </tr>\n",
              "    <tr>\n",
              "      <th>2</th>\n",
              "      <td>Apr 01, 2021</td>\n",
              "      <td>529.93</td>\n",
              "      <td>563.56</td>\n",
              "      <td>499.00</td>\n",
              "      <td>513.47</td>\n",
              "      <td>111,573,300</td>\n",
              "      <td>513.47</td>\n",
              "    </tr>\n",
              "    <tr>\n",
              "      <th>3</th>\n",
              "      <td>Mar 01, 2021</td>\n",
              "      <td>545.57</td>\n",
              "      <td>556.99</td>\n",
              "      <td>492.85</td>\n",
              "      <td>521.66</td>\n",
              "      <td>90,183,900</td>\n",
              "      <td>521.66</td>\n",
              "    </tr>\n",
              "    <tr>\n",
              "      <th>4</th>\n",
              "      <td>Feb 01, 2021</td>\n",
              "      <td>536.79</td>\n",
              "      <td>566.65</td>\n",
              "      <td>518.28</td>\n",
              "      <td>538.85</td>\n",
              "      <td>61,902,300</td>\n",
              "      <td>538.85</td>\n",
              "    </tr>\n",
              "  </tbody>\n",
              "</table>\n",
              "</div>"
            ],
            "text/plain": [
              "           Date    Open    High     Low   Close       Volume Adj Close\n",
              "0  Jun 01, 2021  504.01  536.13  482.14  528.21   78,560,600    528.21\n",
              "1  May 01, 2021  512.65  518.95  478.54  502.81   66,927,600    502.81\n",
              "2  Apr 01, 2021  529.93  563.56  499.00  513.47  111,573,300    513.47\n",
              "3  Mar 01, 2021  545.57  556.99  492.85  521.66   90,183,900    521.66\n",
              "4  Feb 01, 2021  536.79  566.65  518.28  538.85   61,902,300    538.85"
            ]
          },
          "metadata": {},
          "execution_count": 21
        }
      ]
    },
    {
      "cell_type": "code",
      "metadata": {
        "id": "d2Skg0e3Gaoq"
      },
      "source": [
        ""
      ],
      "execution_count": null,
      "outputs": []
    },
    {
      "cell_type": "code",
      "metadata": {
        "id": "lpbKvPhfG0aE"
      },
      "source": [
        ""
      ],
      "execution_count": null,
      "outputs": []
    }
  ]
}